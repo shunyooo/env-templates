{
 "cells": [
  {
   "cell_type": "markdown",
   "metadata": {},
   "source": [
    "# Install"
   ]
  },
  {
   "cell_type": "code",
   "execution_count": null,
   "metadata": {},
   "outputs": [],
   "source": [
    "! git clone https://github.com/OpenNMT/OpenNMT-py.git\n",
    "! pip install -r OpenNMT-py/requirements.txt"
   ]
  },
  {
   "cell_type": "markdown",
   "metadata": {},
   "source": [
    "# Quickstart\n",
    "動作確認\n",
    "http://opennmt.net/OpenNMT-py/quickstart.html"
   ]
  },
  {
   "cell_type": "code",
   "execution_count": 10,
   "metadata": {},
   "outputs": [],
   "source": [
    "base_dir = 'OpenNMT-py/data/{}'\n",
    "src_train_path = base_dir.format('src-train.txt')\n",
    "tgt_train_path = base_dir.format('tgt-train.txt')\n",
    "src_val_path = base_dir.format('src-val.txt')\n",
    "tgt_val_path = base_dir.format('tgt-val.txt')\n",
    "save_data = base_dir.format('demo')"
   ]
  },
  {
   "cell_type": "markdown",
   "metadata": {},
   "source": [
    "### Step 1: Preprocess the data"
   ]
  },
  {
   "cell_type": "code",
   "execution_count": 18,
   "metadata": {},
   "outputs": [],
   "source": [
    "preprocess_command = f'python OpenNMT-py/preprocess.py -train_src {src_train_path} -train_tgt {tgt_train_path} -valid_src {src_val_path} -valid_tgt {tgt_val_path} -save_data {save_data}'"
   ]
  },
  {
   "cell_type": "code",
   "execution_count": 19,
   "metadata": {},
   "outputs": [
    {
     "data": {
      "text/plain": [
       "'python OpenNMT-py/preprocess.py -train_src OpenNMT-py/data/src-train.txt -train_tgt OpenNMT-py/data/tgt-train.txt -valid_src OpenNMT-py/data/src-val.txt -valid_tgt OpenNMT-py/data/tgt-val.txt -save_data OpenNMT-py/data/demo'"
      ]
     },
     "execution_count": 19,
     "metadata": {},
     "output_type": "execute_result"
    }
   ],
   "source": [
    "preprocess_command"
   ]
  },
  {
   "cell_type": "code",
   "execution_count": 22,
   "metadata": {},
   "outputs": [
    {
     "name": "stdout",
     "output_type": "stream",
     "text": [
      "[2019-05-27 12:35:48,495 INFO] Extracting features...\n",
      "[2019-05-27 12:35:48,495 INFO]  * number of source features: 0.\n",
      "[2019-05-27 12:35:48,495 INFO]  * number of target features: 0.\n",
      "[2019-05-27 12:35:48,495 INFO] Building `Fields` object...\n",
      "[2019-05-27 12:35:48,495 INFO] Building & saving training data...\n",
      "[2019-05-27 12:35:48,495 INFO] Reading source and target files: OpenNMT-py/data/src-train.txt OpenNMT-py/data/tgt-train.txt.\n",
      "[2019-05-27 12:35:48,501 INFO] Building shard 0.\n",
      "[2019-05-27 12:35:48,966 INFO]  * saving 0th train data shard to OpenNMT-py/data/demo.train.0.pt.\n",
      "[2019-05-27 12:35:49,628 INFO]  * tgt vocab size: 35820.\n",
      "[2019-05-27 12:35:49,683 INFO]  * src vocab size: 24997.\n",
      "[2019-05-27 12:35:49,972 INFO] Building & saving validation data...\n",
      "[2019-05-27 12:35:49,972 INFO] Reading source and target files: OpenNMT-py/data/src-val.txt OpenNMT-py/data/tgt-val.txt.\n",
      "[2019-05-27 12:35:49,973 INFO] Building shard 0.\n",
      "[2019-05-27 12:35:50,042 INFO]  * saving 0th valid data shard to OpenNMT-py/data/demo.valid.0.pt.\n"
     ]
    }
   ],
   "source": [
    "! $preprocess_command"
   ]
  },
  {
   "cell_type": "markdown",
   "metadata": {},
   "source": [
    "### Step 2: Train the model"
   ]
  },
  {
   "cell_type": "markdown",
   "metadata": {},
   "source": [
    "速度比較メモ。GPU入れると27倍早い。\n",
    "\n",
    "\n",
    "| spec                                    | tok/s            |\n",
    "| --------------------------------------- | ---------------- |\n",
    "| n1-standard-8（vCPU x 8、メモリ 30 GB） | 576/570：×1      |\n",
    "| + GPU（Tesla V100-SXM2-16GB）           | 15566/15729：×27 |\n",
    "\n"
   ]
  },
  {
   "cell_type": "code",
   "execution_count": 23,
   "metadata": {},
   "outputs": [],
   "source": [
    "save_model = 'demo-model'"
   ]
  },
  {
   "cell_type": "code",
   "execution_count": 24,
   "metadata": {},
   "outputs": [],
   "source": [
    "gpu_option = '-world_size 1 -gpu_ranks 0'"
   ]
  },
  {
   "cell_type": "code",
   "execution_count": 25,
   "metadata": {},
   "outputs": [
    {
     "name": "stdout",
     "output_type": "stream",
     "text": [
      "mkdir: cannot create directory ‘./logs/demo’: File exists\n"
     ]
    }
   ],
   "source": [
    "tensorboard_log_dir = './logs/demo'\n",
    "tensorboard_option = f'--tensorboard --tensorboard_log_dir {tensorboard_log_dir}'\n",
    "! mkdir $tensorboard_log_dir"
   ]
  },
  {
   "cell_type": "code",
   "execution_count": 28,
   "metadata": {},
   "outputs": [
    {
     "name": "stdout",
     "output_type": "stream",
     "text": [
      "python OpenNMT-py/train.py -data OpenNMT-py/data/demo -save_model demo-model -world_size 1 -gpu_ranks 0 --tensorboard --tensorboard_log_dir ./logs/demo\n",
      "[2019-05-27 12:37:21,185 INFO]  * src vocab size = 24997\n",
      "[2019-05-27 12:37:21,185 INFO]  * tgt vocab size = 35820\n",
      "[2019-05-27 12:37:21,185 INFO] Building model...\n",
      "[2019-05-27 12:37:27,119 INFO] NMTModel(\n",
      "  (encoder): RNNEncoder(\n",
      "    (embeddings): Embeddings(\n",
      "      (make_embedding): Sequential(\n",
      "        (emb_luts): Elementwise(\n",
      "          (0): Embedding(24997, 500, padding_idx=1)\n",
      "        )\n",
      "      )\n",
      "    )\n",
      "    (rnn): LSTM(500, 500, num_layers=2, dropout=0.3)\n",
      "  )\n",
      "  (decoder): InputFeedRNNDecoder(\n",
      "    (embeddings): Embeddings(\n",
      "      (make_embedding): Sequential(\n",
      "        (emb_luts): Elementwise(\n",
      "          (0): Embedding(35820, 500, padding_idx=1)\n",
      "        )\n",
      "      )\n",
      "    )\n",
      "    (dropout): Dropout(p=0.3)\n",
      "    (rnn): StackedLSTM(\n",
      "      (dropout): Dropout(p=0.3)\n",
      "      (layers): ModuleList(\n",
      "        (0): LSTMCell(1000, 500)\n",
      "        (1): LSTMCell(500, 500)\n",
      "      )\n",
      "    )\n",
      "    (attn): GlobalAttention(\n",
      "      (linear_in): Linear(in_features=500, out_features=500, bias=False)\n",
      "      (linear_out): Linear(in_features=1000, out_features=500, bias=False)\n",
      "    )\n",
      "  )\n",
      "  (generator): Sequential(\n",
      "    (0): Linear(in_features=500, out_features=35820, bias=True)\n",
      "    (1): Cast()\n",
      "    (2): LogSoftmax()\n",
      "  )\n",
      ")\n",
      "[2019-05-27 12:37:27,120 INFO] encoder: 16506500\n",
      "[2019-05-27 12:37:27,120 INFO] decoder: 41613820\n",
      "[2019-05-27 12:37:27,120 INFO] * number of parameters: 58120320\n",
      "[2019-05-27 12:37:27,300 INFO] Starting training on GPU: [0]\n",
      "[2019-05-27 12:37:27,300 INFO] Start training loop and validate every 10000 steps...\n",
      "[2019-05-27 12:37:27,451 INFO] Loading dataset from OpenNMT-py/data/demo.train.0.pt, number of examples: 10000\n",
      "[2019-05-27 12:37:31,865 INFO] Step 50/100000; acc:   3.95; ppl: 169997.24; xent: 12.04; lr: 1.00000; 15117/15082 tok/s;      5 sec\n",
      "[2019-05-27 12:37:36,163 INFO] Step 100/100000; acc:   4.13; ppl: 37546.39; xent: 10.53; lr: 1.00000; 16043/16410 tok/s;      9 sec\n",
      "[2019-05-27 12:37:40,823 INFO] Step 150/100000; acc:   4.43; ppl: 6578.85; xent: 8.79; lr: 1.00000; 15999/15727 tok/s;     14 sec\n",
      "[2019-05-27 12:37:41,645 INFO] Loading dataset from OpenNMT-py/data/demo.train.0.pt, number of examples: 10000\n",
      "[2019-05-27 12:37:45,559 INFO] Step 200/100000; acc:   7.77; ppl: 5683.62; xent: 8.65; lr: 1.00000; 15139/14913 tok/s;     18 sec\n",
      "[2019-05-27 12:37:49,933 INFO] Step 250/100000; acc:   8.78; ppl: 2259.89; xent: 7.72; lr: 1.00000; 15974/16309 tok/s;     23 sec\n",
      "[2019-05-27 12:37:54,819 INFO] Step 300/100000; acc:   9.53; ppl: 1921.93; xent: 7.56; lr: 1.00000; 15057/14758 tok/s;     28 sec\n",
      "[2019-05-27 12:37:56,247 INFO] Loading dataset from OpenNMT-py/data/demo.train.0.pt, number of examples: 10000\n",
      "[2019-05-27 12:37:59,525 INFO] Step 350/100000; acc:   9.89; ppl: 1540.77; xent: 7.34; lr: 1.00000; 14997/14628 tok/s;     32 sec\n",
      "[2019-05-27 12:38:03,956 INFO] Step 400/100000; acc:  10.90; ppl: 1336.30; xent: 7.20; lr: 1.00000; 16006/16282 tok/s;     37 sec\n",
      "[2019-05-27 12:38:08,585 INFO] Step 450/100000; acc:  10.99; ppl: 1185.32; xent: 7.08; lr: 1.00000; 15999/15968 tok/s;     41 sec\n",
      "[2019-05-27 12:38:10,695 INFO] Loading dataset from OpenNMT-py/data/demo.train.0.pt, number of examples: 10000\n",
      "[2019-05-27 12:38:12,913 INFO] Step 500/100000; acc:  11.59; ppl: 1074.54; xent: 6.98; lr: 1.00000; 15398/15093 tok/s;     46 sec\n",
      "[2019-05-27 12:38:17,381 INFO] Step 550/100000; acc:  11.92; ppl: 995.32; xent: 6.90; lr: 1.00000; 16583/16490 tok/s;     50 sec\n",
      "[2019-05-27 12:38:22,012 INFO] Step 600/100000; acc:  12.77; ppl: 894.95; xent: 6.80; lr: 1.00000; 15892/16014 tok/s;     55 sec\n",
      "[2019-05-27 12:38:24,787 INFO] Loading dataset from OpenNMT-py/data/demo.train.0.pt, number of examples: 10000\n",
      "[2019-05-27 12:38:26,540 INFO] Step 650/100000; acc:  12.81; ppl: 861.24; xent: 6.76; lr: 1.00000; 15432/15235 tok/s;     59 sec\n",
      "[2019-05-27 12:38:30,866 INFO] Step 700/100000; acc:  13.43; ppl: 794.86; xent: 6.68; lr: 1.00000; 16293/16214 tok/s;     64 sec\n",
      "[2019-05-27 12:38:35,673 INFO] Step 750/100000; acc:  13.38; ppl: 732.04; xent: 6.60; lr: 1.00000; 15676/15823 tok/s;     68 sec\n",
      "[2019-05-27 12:38:38,888 INFO] Loading dataset from OpenNMT-py/data/demo.train.0.pt, number of examples: 10000\n",
      "[2019-05-27 12:38:40,121 INFO] Step 800/100000; acc:  14.43; ppl: 667.89; xent: 6.50; lr: 1.00000; 15932/15594 tok/s;     73 sec\n",
      "^C\n",
      "Traceback (most recent call last):\n",
      "  File \"OpenNMT-py/train.py\", line 109, in <module>\n",
      "    main(opt)\n",
      "  File \"OpenNMT-py/train.py\", line 39, in main\n",
      "    single_main(opt, 0)\n",
      "  File \"/root/user/work/OpenNMT-py/onmt/train_single.py\", line 127, in main\n",
      "    valid_steps=opt.valid_steps)\n",
      "  File \"/root/user/work/OpenNMT-py/onmt/trainer.py\", line 249, in train\n",
      "    report_stats)\n",
      "  File \"/root/user/work/OpenNMT-py/onmt/trainer.py\", line 376, in _gradient_accumulation\n",
      "    trunc_size=trunc_size)\n",
      "  File \"/root/user/work/OpenNMT-py/onmt/utils/loss.py\", line 157, in __call__\n",
      "    for shard in shards(shard_state, shard_size):\n",
      "  File \"/root/user/work/OpenNMT-py/onmt/utils/loss.py\", line 304, in shards\n",
      "    torch.autograd.backward(inputs, grads)\n",
      "  File \"/usr/local/lib/python3.7/dist-packages/torch/autograd/__init__.py\", line 93, in backward\n",
      "    allow_unreachable=True)  # allow_unreachable flag\n",
      "KeyboardInterrupt\n"
     ]
    }
   ],
   "source": [
    "train_command = f'python OpenNMT-py/train.py -data {save_data} -save_model {save_model} {gpu_option} {tensorboard_option}'\n",
    "! echo $train_command\n",
    "! $train_command"
   ]
  }
 ],
 "metadata": {
  "kernelspec": {
   "display_name": "Python 3",
   "language": "python",
   "name": "python3"
  },
  "language_info": {
   "codemirror_mode": {
    "name": "ipython",
    "version": 3
   },
   "file_extension": ".py",
   "mimetype": "text/x-python",
   "name": "python",
   "nbconvert_exporter": "python",
   "pygments_lexer": "ipython3",
   "version": "3.7.3"
  }
 },
 "nbformat": 4,
 "nbformat_minor": 2
}
