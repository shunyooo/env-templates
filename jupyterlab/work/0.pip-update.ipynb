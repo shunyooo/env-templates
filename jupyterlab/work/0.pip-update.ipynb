{
 "cells": [
  {
   "cell_type": "code",
   "execution_count": 1,
   "metadata": {},
   "outputs": [
    {
     "name": "stdout",
     "output_type": "stream",
     "text": [
      "Requirement already satisfied: pip-upgrader in /usr/local/lib/python3.7/dist-packages (1.4.15)\n",
      "Requirement already satisfied: requests in /usr/local/lib/python3.7/dist-packages (from pip-upgrader) (2.23.0)\n",
      "Requirement already satisfied: colorclass in /usr/local/lib/python3.7/dist-packages (from pip-upgrader) (2.2.0)\n",
      "Requirement already satisfied: terminaltables in /usr/local/lib/python3.7/dist-packages (from pip-upgrader) (3.1.0)\n",
      "Requirement already satisfied: packaging in /usr/local/lib/python3.7/dist-packages (from pip-upgrader) (20.3)\n",
      "Requirement already satisfied: docopt in /usr/local/lib/python3.7/dist-packages (from pip-upgrader) (0.6.2)\n",
      "Requirement already satisfied: chardet<4,>=3.0.2 in /usr/local/lib/python3.7/dist-packages (from requests->pip-upgrader) (3.0.4)\n",
      "Requirement already satisfied: certifi>=2017.4.17 in /usr/local/lib/python3.7/dist-packages (from requests->pip-upgrader) (2019.11.28)\n",
      "Requirement already satisfied: idna<3,>=2.5 in /usr/local/lib/python3.7/dist-packages (from requests->pip-upgrader) (2.9)\n",
      "Requirement already satisfied: urllib3!=1.25.0,!=1.25.1,<1.26,>=1.21.1 in /usr/local/lib/python3.7/dist-packages (from requests->pip-upgrader) (1.24.3)\n",
      "Requirement already satisfied: pyparsing>=2.0.2 in /usr/local/lib/python3.7/dist-packages (from packaging->pip-upgrader) (2.4.6)\n",
      "Requirement already satisfied: six in /usr/local/lib/python3.7/dist-packages (from packaging->pip-upgrader) (1.14.0)\n"
     ]
    }
   ],
   "source": [
    "! pip install pip-upgrader"
   ]
  },
  {
   "cell_type": "code",
   "execution_count": 2,
   "metadata": {},
   "outputs": [
    {
     "name": "stdout",
     "output_type": "stream",
     "text": [
      "\u001b[93mFound valid requirements file(s):\u001b[39m \u001b[96m\n",
      "/tmp/requirements.txt\u001b[39m\n",
      "1/12: gensim ... up to date: 3.8.1\n",
      "2/12: matplotlib ... up to date: 3.2.1\n",
      "3/12: numpy ... up to date: 1.18.2\n",
      "4/12: pandas ... up to date: 1.0.3\n",
      "5/12: scipy ... up to date: 1.4.1\n",
      "6/12: seaborn ... up to date: 0.10.0\n",
      "7/12: tensorflow ... up to date: 2.1.0\n",
      "8/12: tensorboard ... up to date: 2.1.1\n",
      "9/12: kaggle ... up to date: 1.5.6\n",
      "10/12: jupyter ... up to date: 1.0.0\n",
      "11/12: jupyterlab ... up to date: 2.0.1\n",
      "\u001b[92mAll packages are up-to-date.\u001b[39m\n",
      "\n",
      "\u001b[91mUpgrade interrupted.\u001b[39m\n"
     ]
    }
   ],
   "source": [
    "! pip-upgrade --skip-virtualenv-check /tmp/requirements.txt -p all"
   ]
  },
  {
   "cell_type": "code",
   "execution_count": 3,
   "metadata": {},
   "outputs": [
    {
     "name": "stdout",
     "output_type": "stream",
     "text": [
      "gensim==3.8.1\n",
      "matplotlib==3.2.1\n",
      "numpy==1.18.2\n",
      "pandas==1.0.3\n",
      "scipy==1.4.1\n",
      "seaborn==0.10.0\n",
      "tensorflow==2.1.0\n",
      "tensorboard==2.1.1\n",
      "kaggle==1.5.6\n",
      "jupyter==1.0.0 \n",
      "jupyterlab==2.0.1\n",
      "japanize-matplotlib"
     ]
    }
   ],
   "source": [
    "! cat /tmp/requirements.txt"
   ]
  }
 ],
 "metadata": {
  "kernelspec": {
   "display_name": "Python 3",
   "language": "python",
   "name": "python3"
  },
  "language_info": {
   "codemirror_mode": {
    "name": "ipython",
    "version": 3
   },
   "file_extension": ".py",
   "mimetype": "text/x-python",
   "name": "python",
   "nbconvert_exporter": "python",
   "pygments_lexer": "ipython3",
   "version": "3.7.6"
  }
 },
 "nbformat": 4,
 "nbformat_minor": 4
}
