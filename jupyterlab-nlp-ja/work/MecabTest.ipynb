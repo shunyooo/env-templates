{
 "cells": [
  {
   "cell_type": "code",
   "execution_count": 7,
   "metadata": {},
   "outputs": [
    {
     "name": "stdout",
     "output_type": "stream",
     "text": [
      "ピコ太郎\tピコタロウ\tピコ太郎\t名詞-固有名詞-人名-一般\t\t\n",
      "さん\tサン\tさん\t名詞-接尾-人名\t\t\n",
      "は\tハ\tは\t助詞-係助詞\t\t\n",
      "カナブン\tカナブン\tカナブン\t名詞-一般\t\t\n",
      "に\tニ\tに\t助詞-格助詞-一般\t\t\n",
      "角\tカク\t角\t名詞-一般\t\t\n",
      "を\tヲ\tを\t助詞-格助詞-一般\t\t\n",
      "つけ\tツケ\tつける\t動詞-自立\t一段\t連用形\n",
      "て\tテ\tて\t助詞-接続助詞\t\t\n",
      "カブトムシ\tカブトムシ\tカブトムシ\t名詞-一般\t\t\n",
      "として\tトシテ\tとして\t助詞-格助詞-連語\t\t\n",
      "売る\tウル\t売る\t動詞-自立\t五段・ラ行\t基本形\n",
      "バイト\tバイト\tバイト\t名詞-一般\t\t\n",
      "を\tヲ\tを\t助詞-格助詞-一般\t\t\n",
      "し\tシ\tする\t動詞-自立\tサ変・スル\t連用形\n",
      "て\tテ\tて\t助詞-接続助詞\t\t\n",
      "いる\tイル\tいる\t動詞-非自立\t一段\t基本形\n",
      "EOS\n",
      "\n"
     ]
    }
   ],
   "source": [
    "import MeCab\n",
    "mecab = MeCab.Tagger(\"-Ochasen -d /usr/lib/mecab/dic/mecab-ipadic-neologd\")\n",
    "res = mecab.parse('ピコ太郎さんはカナブンに角をつけてカブトムシとして売るバイトをしている')\n",
    "print(res)"
   ]
  }
 ],
 "metadata": {
  "kernelspec": {
   "display_name": "Python 3",
   "language": "python",
   "name": "python3"
  },
  "language_info": {
   "codemirror_mode": {
    "name": "ipython",
    "version": 3
   },
   "file_extension": ".py",
   "mimetype": "text/x-python",
   "name": "python",
   "nbconvert_exporter": "python",
   "pygments_lexer": "ipython3",
   "version": "3.7.4"
  }
 },
 "nbformat": 4,
 "nbformat_minor": 2
}
